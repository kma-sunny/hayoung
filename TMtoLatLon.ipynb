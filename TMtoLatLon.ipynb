{
 "cells": [
  {
   "cell_type": "code",
   "execution_count": 1,
   "metadata": {},
   "outputs": [],
   "source": [
    "import math"
   ]
  },
  {
   "cell_type": "markdown",
   "metadata": {},
   "source": [
    "### flow order\n",
    "    1) 시작\n",
    "    2) 입력 X, Y\n",
    "    3) Call sub(Q)\n",
    "    4) B9, BL9 계산(B9=Q5=H4, BL9=Q5=BL3)\n",
    "    5) 출력 B9, BL9\n",
    "    6) 끝"
   ]
  },
  {
   "cell_type": "code",
   "execution_count": 2,
   "metadata": {},
   "outputs": [],
   "source": [
    "def sub(Q):\n",
    "    Q1=int(Q); Q2=(Q-float(Q1))*60; Q3=int(Q2); Q4=(Q2-float(Q3))*60; Q5=float(Q1)*10000+float(Q3)*100+Q4\n",
    "    return Q5"
   ]
  },
  {
   "cell_type": "code",
   "execution_count": 5,
   "metadata": {},
   "outputs": [],
   "source": [
    "A=6377397.155 # 반경\n",
    "E=6.674372227347433e-3 # 제 1 이심률의 제곱\n",
    "E0=6.6719218794659982e-3 # 제 2 이심률의 제곱\n",
    "C=6398786.848059848\n",
    "PI=3.141592653589793\n",
    "P=180/PI #라디안 단위와 도 단위를 양쪽으로 바꾸어줄 수 있는 인자\n",
    "BM0=1 # 계산식\n",
    "BL0=127"
   ]
  },
  {
   "cell_type": "code",
   "execution_count": null,
   "metadata": {},
   "outputs": [],
   "source": []
  },
  {
   "cell_type": "code",
   "execution_count": null,
   "metadata": {},
   "outputs": [],
   "source": []
  },
  {
   "cell_type": "code",
   "execution_count": null,
   "metadata": {},
   "outputs": [],
   "source": []
  },
  {
   "cell_type": "code",
   "execution_count": null,
   "metadata": {},
   "outputs": [],
   "source": []
  },
  {
   "cell_type": "code",
   "execution_count": null,
   "metadata": {},
   "outputs": [],
   "source": []
  }
 ],
 "metadata": {
  "kernelspec": {
   "display_name": "Python 3",
   "language": "python",
   "name": "python3"
  },
  "language_info": {
   "codemirror_mode": {
    "name": "ipython",
    "version": 3
   },
   "file_extension": ".py",
   "mimetype": "text/x-python",
   "name": "python",
   "nbconvert_exporter": "python",
   "pygments_lexer": "ipython3",
   "version": "3.6.5"
  }
 },
 "nbformat": 4,
 "nbformat_minor": 2
}

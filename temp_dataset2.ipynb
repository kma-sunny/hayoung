{
 "cells": [
  {
   "cell_type": "code",
   "execution_count": 1,
   "metadata": {},
   "outputs": [],
   "source": [
    "import pandas as pd\n",
    "import numpy as np"
   ]
  },
  {
   "cell_type": "code",
   "execution_count": 2,
   "metadata": {},
   "outputs": [],
   "source": [
    "import os\n",
    "temp_List = os.listdir(\"temp/\")"
   ]
  },
  {
   "cell_type": "code",
   "execution_count": 3,
   "metadata": {},
   "outputs": [],
   "source": [
    "add_dict = {}\n",
    "fp = \"temp/\"\n",
    "for i in temp_List:\n",
    "    x =pd.read_csv(fp+i).columns[2][15:21]\n",
    "    add_dict[x] = i"
   ]
  },
  {
   "cell_type": "code",
   "execution_count": 4,
   "metadata": {
    "scrolled": true
   },
   "outputs": [
    {
     "name": "stdout",
     "output_type": "stream",
     "text": [
      "63_126 400_20190704183220.csv\n",
      "62_126 400_20190704192259.csv\n",
      "63_127 400_20190704183125.csv\n",
      "62_125 400_20190704183243.csv\n",
      "63_125 400_20190704183227.csv\n",
      "61_125 400_20190704183442.csv\n",
      "61_126 400_20190704192317.csv\n",
      "61_124 400_20190704183414.csv\n",
      "60_125 400_20190704191715.csv\n",
      "60_126 400_20190704192405.csv\n",
      "59_125 400_20190704191800.csv\n",
      "59_124 400_20190704191801.csv\n",
      "58_125 400_20190704191852.csv\n",
      "58_126 400_20190704191913.csv\n",
      "59_126 400_20190704192339.csv\n",
      "58_124 400_20190704191757.csv\n",
      "57_125 400_20190704191806.csv\n",
      "57_127 400_20190704191833.csv\n",
      "57_126 400_20190704191908.csv\n",
      "58_127 400_20190704191952.csv\n",
      "59_127 400_20190704192010.csv\n",
      "60_127 400_20190704192425.csv\n",
      "59_128 400_20190704192009.csv\n",
      "61_129 400_20190704192050.csv\n",
      "61_128 400_20190704192120.csv\n",
      "62_129 400_20190704192024.csv\n",
      "62_128 400_20190704192144.csv\n",
      "60_128 400_20190704192126.csv\n",
      "61_127 400_20190704192411.csv\n",
      "62_127 400_20190704192258.csv\n"
     ]
    }
   ],
   "source": [
    "temp2=pd.DataFrame()\n",
    "\n",
    "for key, value in add_dict.items():\n",
    "    print(key,value)\n",
    "    temp = pd.read_csv(\"temp/\"+value, names=['day','hour','Temp'])\n",
    "    \n",
    "    for i in range(temp.shape[0]):\n",
    "        try:\n",
    "            temp.iloc[i,0] = int(temp.iloc[i,0])\n",
    "        except:\n",
    "            temp.iloc[i,0] = np.NaN\n",
    "    temp.dropna(inplace=True)\n",
    "    temp = temp.reset_index()\n",
    "    \n",
    "    temp[\"hour\"]=pd.to_numeric(temp[\"hour\"])\n",
    "    temp[\"day\"]=pd.to_numeric(temp[\"day\"])\n",
    "    temp[\"Temp\"]=pd.to_numeric(temp[\"Temp\"])\n",
    "    \n",
    "    temp['grid']=key\n",
    "    temp2=pd.concat([temp2,temp], axis=0)"
   ]
  },
  {
   "cell_type": "code",
   "execution_count": 5,
   "metadata": {},
   "outputs": [
    {
     "data": {
      "text/plain": [
       "index        1.0\n",
       "day          1.0\n",
       "hour         0.0\n",
       "Temp       -50.0\n",
       "grid     57125.0\n",
       "dtype: float64"
      ]
     },
     "execution_count": 5,
     "metadata": {},
     "output_type": "execute_result"
    }
   ],
   "source": [
    "temp2.min()"
   ]
  },
  {
   "cell_type": "code",
   "execution_count": 6,
   "metadata": {
    "scrolled": true
   },
   "outputs": [
    {
     "name": "stdout",
     "output_type": "stream",
     "text": [
      "<class 'pandas.core.frame.DataFrame'>\n",
      "Int64Index: 262800 entries, 0 to 8759\n",
      "Data columns (total 5 columns):\n",
      "index    262800 non-null int64\n",
      "day      262800 non-null int64\n",
      "hour     262800 non-null int64\n",
      "Temp     262800 non-null float64\n",
      "grid     262800 non-null object\n",
      "dtypes: float64(1), int64(3), object(1)\n",
      "memory usage: 12.0+ MB\n"
     ]
    }
   ],
   "source": [
    "temp2.info()"
   ]
  },
  {
   "cell_type": "code",
   "execution_count": 7,
   "metadata": {
    "scrolled": false
   },
   "outputs": [
    {
     "data": {
      "text/html": [
       "<div>\n",
       "<style scoped>\n",
       "    .dataframe tbody tr th:only-of-type {\n",
       "        vertical-align: middle;\n",
       "    }\n",
       "\n",
       "    .dataframe tbody tr th {\n",
       "        vertical-align: top;\n",
       "    }\n",
       "\n",
       "    .dataframe thead th {\n",
       "        text-align: right;\n",
       "    }\n",
       "</style>\n",
       "<table border=\"1\" class=\"dataframe\">\n",
       "  <thead>\n",
       "    <tr style=\"text-align: right;\">\n",
       "      <th></th>\n",
       "      <th>index</th>\n",
       "      <th>day</th>\n",
       "      <th>hour</th>\n",
       "      <th>Temp</th>\n",
       "      <th>grid</th>\n",
       "    </tr>\n",
       "  </thead>\n",
       "  <tbody>\n",
       "    <tr>\n",
       "      <th>0</th>\n",
       "      <td>1</td>\n",
       "      <td>1</td>\n",
       "      <td>0</td>\n",
       "      <td>-1.0</td>\n",
       "      <td>63_126</td>\n",
       "    </tr>\n",
       "    <tr>\n",
       "      <th>1</th>\n",
       "      <td>2</td>\n",
       "      <td>1</td>\n",
       "      <td>100</td>\n",
       "      <td>0.8</td>\n",
       "      <td>63_126</td>\n",
       "    </tr>\n",
       "    <tr>\n",
       "      <th>2</th>\n",
       "      <td>3</td>\n",
       "      <td>1</td>\n",
       "      <td>200</td>\n",
       "      <td>2.0</td>\n",
       "      <td>63_126</td>\n",
       "    </tr>\n",
       "    <tr>\n",
       "      <th>3</th>\n",
       "      <td>4</td>\n",
       "      <td>1</td>\n",
       "      <td>300</td>\n",
       "      <td>2.8</td>\n",
       "      <td>63_126</td>\n",
       "    </tr>\n",
       "    <tr>\n",
       "      <th>4</th>\n",
       "      <td>5</td>\n",
       "      <td>1</td>\n",
       "      <td>400</td>\n",
       "      <td>3.3</td>\n",
       "      <td>63_126</td>\n",
       "    </tr>\n",
       "  </tbody>\n",
       "</table>\n",
       "</div>"
      ],
      "text/plain": [
       "   index  day  hour  Temp    grid\n",
       "0      1    1     0  -1.0  63_126\n",
       "1      2    1   100   0.8  63_126\n",
       "2      3    1   200   2.0  63_126\n",
       "3      4    1   300   2.8  63_126\n",
       "4      5    1   400   3.3  63_126"
      ]
     },
     "execution_count": 7,
     "metadata": {},
     "output_type": "execute_result"
    }
   ],
   "source": [
    "temp2.head()"
   ]
  },
  {
   "cell_type": "code",
   "execution_count": 8,
   "metadata": {
    "scrolled": true
   },
   "outputs": [
    {
     "data": {
      "text/plain": [
       "array([   0,  100,  200,  300,  400,  500,  600,  700,  800,  900, 1000,\n",
       "       1100, 1200, 1300, 1400, 1500, 1600, 1700, 1800, 1900, 2000, 2100,\n",
       "       2200, 2300], dtype=int64)"
      ]
     },
     "execution_count": 8,
     "metadata": {},
     "output_type": "execute_result"
    }
   ],
   "source": [
    "temp2[\"hour\"].unique()"
   ]
  },
  {
   "cell_type": "code",
   "execution_count": 9,
   "metadata": {},
   "outputs": [],
   "source": [
    "temp2[\"hour\"]=temp2[\"hour\"]/100"
   ]
  },
  {
   "cell_type": "code",
   "execution_count": 10,
   "metadata": {},
   "outputs": [
    {
     "data": {
      "text/plain": [
       "array([ 0.,  1.,  2.,  3.,  4.,  5.,  6.,  7.,  8.,  9., 10., 11., 12.,\n",
       "       13., 14., 15., 16., 17., 18., 19., 20., 21., 22., 23.])"
      ]
     },
     "execution_count": 10,
     "metadata": {},
     "output_type": "execute_result"
    }
   ],
   "source": [
    "temp2[\"hour\"].unique()"
   ]
  },
  {
   "cell_type": "code",
   "execution_count": 11,
   "metadata": {
    "scrolled": true
   },
   "outputs": [],
   "source": [
    "temp_data=temp2[(temp2[\"hour\"]>=8) & (temp2[\"hour\"]<=20)]"
   ]
  },
  {
   "cell_type": "code",
   "execution_count": 12,
   "metadata": {
    "scrolled": true
   },
   "outputs": [
    {
     "name": "stderr",
     "output_type": "stream",
     "text": [
      "C:\\Users\\B-17\\AppData\\Roaming\\Python\\Python36\\site-packages\\pandas\\core\\frame.py:3940: SettingWithCopyWarning: \n",
      "A value is trying to be set on a copy of a slice from a DataFrame\n",
      "\n",
      "See the caveats in the documentation: http://pandas.pydata.org/pandas-docs/stable/indexing.html#indexing-view-versus-copy\n",
      "  errors=errors)\n"
     ]
    }
   ],
   "source": [
    "temp_data.drop(\"index\",axis=1,inplace=True)"
   ]
  },
  {
   "cell_type": "code",
   "execution_count": 13,
   "metadata": {},
   "outputs": [
    {
     "name": "stdout",
     "output_type": "stream",
     "text": [
      "<class 'pandas.core.frame.DataFrame'>\n",
      "Int64Index: 142350 entries, 8 to 8756\n",
      "Data columns (total 4 columns):\n",
      "day     142350 non-null int64\n",
      "hour    142350 non-null float64\n",
      "Temp    142350 non-null float64\n",
      "grid    142350 non-null object\n",
      "dtypes: float64(2), int64(1), object(1)\n",
      "memory usage: 5.4+ MB\n"
     ]
    }
   ],
   "source": [
    "temp_data.info()"
   ]
  },
  {
   "cell_type": "code",
   "execution_count": 14,
   "metadata": {},
   "outputs": [],
   "source": [
    "temp_data_avg=temp_data[[\"grid\",\"day\",\"Temp\"]].groupby([\"grid\",\"day\"]).mean()\n",
    "temp_data_avg=temp_data_avg.reset_index()\n",
    "temp_data_avg.columns=['grid','day','temp_avg']"
   ]
  },
  {
   "cell_type": "code",
   "execution_count": 15,
   "metadata": {},
   "outputs": [],
   "source": [
    "temp_data_max=temp_data[[\"grid\",\"day\",\"Temp\"]].groupby([\"grid\",\"day\"]).max()\n",
    "temp_data_max=temp_data_max.reset_index()\n",
    "temp_data_max.columns=['grid1','day1','temp_max']"
   ]
  },
  {
   "cell_type": "code",
   "execution_count": 16,
   "metadata": {},
   "outputs": [],
   "source": [
    "temp_data_min=temp_data[[\"grid\",\"day\",\"Temp\"]].groupby([\"grid\",\"day\"]).min()\n",
    "temp_data_min=temp_data_min.reset_index()\n",
    "temp_data_min.columns=['grid2','day2','temp_min']"
   ]
  },
  {
   "cell_type": "code",
   "execution_count": 17,
   "metadata": {
    "scrolled": true
   },
   "outputs": [
    {
     "data": {
      "text/plain": [
       "array([['57_125', 1, -7.7],\n",
       "       ['57_125', 2, -8.3],\n",
       "       ['57_125', 3, -11.2],\n",
       "       ...,\n",
       "       ['63_127', 29, -12.4],\n",
       "       ['63_127', 30, -11.6],\n",
       "       ['63_127', 31, -10.3]], dtype=object)"
      ]
     },
     "execution_count": 17,
     "metadata": {},
     "output_type": "execute_result"
    }
   ],
   "source": [
    "temp_data_min.values"
   ]
  },
  {
   "cell_type": "code",
   "execution_count": 18,
   "metadata": {},
   "outputs": [
    {
     "data": {
      "text/html": [
       "<div>\n",
       "<style scoped>\n",
       "    .dataframe tbody tr th:only-of-type {\n",
       "        vertical-align: middle;\n",
       "    }\n",
       "\n",
       "    .dataframe tbody tr th {\n",
       "        vertical-align: top;\n",
       "    }\n",
       "\n",
       "    .dataframe thead th {\n",
       "        text-align: right;\n",
       "    }\n",
       "</style>\n",
       "<table border=\"1\" class=\"dataframe\">\n",
       "  <thead>\n",
       "    <tr style=\"text-align: right;\">\n",
       "      <th></th>\n",
       "      <th>grid1</th>\n",
       "      <th>day1</th>\n",
       "      <th>temp_max</th>\n",
       "    </tr>\n",
       "  </thead>\n",
       "  <tbody>\n",
       "    <tr>\n",
       "      <th>0</th>\n",
       "      <td>57_125</td>\n",
       "      <td>1</td>\n",
       "      <td>35.299999</td>\n",
       "    </tr>\n",
       "    <tr>\n",
       "      <th>1</th>\n",
       "      <td>57_125</td>\n",
       "      <td>2</td>\n",
       "      <td>35.400002</td>\n",
       "    </tr>\n",
       "    <tr>\n",
       "      <th>2</th>\n",
       "      <td>57_125</td>\n",
       "      <td>3</td>\n",
       "      <td>33.099998</td>\n",
       "    </tr>\n",
       "    <tr>\n",
       "      <th>3</th>\n",
       "      <td>57_125</td>\n",
       "      <td>4</td>\n",
       "      <td>32.099998</td>\n",
       "    </tr>\n",
       "    <tr>\n",
       "      <th>4</th>\n",
       "      <td>57_125</td>\n",
       "      <td>5</td>\n",
       "      <td>30.900000</td>\n",
       "    </tr>\n",
       "  </tbody>\n",
       "</table>\n",
       "</div>"
      ],
      "text/plain": [
       "    grid1  day1   temp_max\n",
       "0  57_125     1  35.299999\n",
       "1  57_125     2  35.400002\n",
       "2  57_125     3  33.099998\n",
       "3  57_125     4  32.099998\n",
       "4  57_125     5  30.900000"
      ]
     },
     "execution_count": 18,
     "metadata": {},
     "output_type": "execute_result"
    }
   ],
   "source": [
    "temp_data_max.head()"
   ]
  },
  {
   "cell_type": "code",
   "execution_count": 19,
   "metadata": {},
   "outputs": [
    {
     "data": {
      "text/html": [
       "<div>\n",
       "<style scoped>\n",
       "    .dataframe tbody tr th:only-of-type {\n",
       "        vertical-align: middle;\n",
       "    }\n",
       "\n",
       "    .dataframe tbody tr th {\n",
       "        vertical-align: top;\n",
       "    }\n",
       "\n",
       "    .dataframe thead th {\n",
       "        text-align: right;\n",
       "    }\n",
       "</style>\n",
       "<table border=\"1\" class=\"dataframe\">\n",
       "  <thead>\n",
       "    <tr style=\"text-align: right;\">\n",
       "      <th></th>\n",
       "      <th>grid2</th>\n",
       "      <th>day2</th>\n",
       "      <th>temp_min</th>\n",
       "    </tr>\n",
       "  </thead>\n",
       "  <tbody>\n",
       "    <tr>\n",
       "      <th>0</th>\n",
       "      <td>57_125</td>\n",
       "      <td>1</td>\n",
       "      <td>-7.7</td>\n",
       "    </tr>\n",
       "    <tr>\n",
       "      <th>1</th>\n",
       "      <td>57_125</td>\n",
       "      <td>2</td>\n",
       "      <td>-8.3</td>\n",
       "    </tr>\n",
       "    <tr>\n",
       "      <th>2</th>\n",
       "      <td>57_125</td>\n",
       "      <td>3</td>\n",
       "      <td>-11.2</td>\n",
       "    </tr>\n",
       "    <tr>\n",
       "      <th>3</th>\n",
       "      <td>57_125</td>\n",
       "      <td>4</td>\n",
       "      <td>-10.5</td>\n",
       "    </tr>\n",
       "    <tr>\n",
       "      <th>4</th>\n",
       "      <td>57_125</td>\n",
       "      <td>5</td>\n",
       "      <td>-11.9</td>\n",
       "    </tr>\n",
       "  </tbody>\n",
       "</table>\n",
       "</div>"
      ],
      "text/plain": [
       "    grid2  day2  temp_min\n",
       "0  57_125     1      -7.7\n",
       "1  57_125     2      -8.3\n",
       "2  57_125     3     -11.2\n",
       "3  57_125     4     -10.5\n",
       "4  57_125     5     -11.9"
      ]
     },
     "execution_count": 19,
     "metadata": {},
     "output_type": "execute_result"
    }
   ],
   "source": [
    "temp_data_min.head()"
   ]
  },
  {
   "cell_type": "code",
   "execution_count": 20,
   "metadata": {},
   "outputs": [],
   "source": [
    "temp_dataset=pd.concat([temp_data_max,temp_data_min],axis=1)\n",
    "temp_dataset=pd.concat([temp_dataset,temp_data_avg],axis=1)"
   ]
  },
  {
   "cell_type": "code",
   "execution_count": 21,
   "metadata": {},
   "outputs": [
    {
     "data": {
      "text/html": [
       "<div>\n",
       "<style scoped>\n",
       "    .dataframe tbody tr th:only-of-type {\n",
       "        vertical-align: middle;\n",
       "    }\n",
       "\n",
       "    .dataframe tbody tr th {\n",
       "        vertical-align: top;\n",
       "    }\n",
       "\n",
       "    .dataframe thead th {\n",
       "        text-align: right;\n",
       "    }\n",
       "</style>\n",
       "<table border=\"1\" class=\"dataframe\">\n",
       "  <thead>\n",
       "    <tr style=\"text-align: right;\">\n",
       "      <th></th>\n",
       "      <th>grid1</th>\n",
       "      <th>day1</th>\n",
       "      <th>temp_max</th>\n",
       "      <th>grid2</th>\n",
       "      <th>day2</th>\n",
       "      <th>temp_min</th>\n",
       "      <th>grid</th>\n",
       "      <th>day</th>\n",
       "      <th>temp_avg</th>\n",
       "    </tr>\n",
       "  </thead>\n",
       "  <tbody>\n",
       "    <tr>\n",
       "      <th>0</th>\n",
       "      <td>57_125</td>\n",
       "      <td>1</td>\n",
       "      <td>35.299999</td>\n",
       "      <td>57_125</td>\n",
       "      <td>1</td>\n",
       "      <td>-7.7</td>\n",
       "      <td>57_125</td>\n",
       "      <td>1</td>\n",
       "      <td>12.047436</td>\n",
       "    </tr>\n",
       "    <tr>\n",
       "      <th>1</th>\n",
       "      <td>57_125</td>\n",
       "      <td>2</td>\n",
       "      <td>35.400002</td>\n",
       "      <td>57_125</td>\n",
       "      <td>2</td>\n",
       "      <td>-8.3</td>\n",
       "      <td>57_125</td>\n",
       "      <td>2</td>\n",
       "      <td>12.685256</td>\n",
       "    </tr>\n",
       "  </tbody>\n",
       "</table>\n",
       "</div>"
      ],
      "text/plain": [
       "    grid1  day1   temp_max   grid2  day2  temp_min    grid  day   temp_avg\n",
       "0  57_125     1  35.299999  57_125     1      -7.7  57_125    1  12.047436\n",
       "1  57_125     2  35.400002  57_125     2      -8.3  57_125    2  12.685256"
      ]
     },
     "execution_count": 21,
     "metadata": {},
     "output_type": "execute_result"
    }
   ],
   "source": [
    "temp_dataset.head(2)"
   ]
  },
  {
   "cell_type": "code",
   "execution_count": 22,
   "metadata": {},
   "outputs": [],
   "source": [
    "temp_dataset=temp_dataset[[\"grid\",\"day\",\"temp_avg\",\"temp_max\",\"temp_min\"]]"
   ]
  },
  {
   "cell_type": "code",
   "execution_count": 23,
   "metadata": {},
   "outputs": [
    {
     "data": {
      "text/html": [
       "<div>\n",
       "<style scoped>\n",
       "    .dataframe tbody tr th:only-of-type {\n",
       "        vertical-align: middle;\n",
       "    }\n",
       "\n",
       "    .dataframe tbody tr th {\n",
       "        vertical-align: top;\n",
       "    }\n",
       "\n",
       "    .dataframe thead th {\n",
       "        text-align: right;\n",
       "    }\n",
       "</style>\n",
       "<table border=\"1\" class=\"dataframe\">\n",
       "  <thead>\n",
       "    <tr style=\"text-align: right;\">\n",
       "      <th></th>\n",
       "      <th>grid</th>\n",
       "      <th>day</th>\n",
       "      <th>temp_avg</th>\n",
       "      <th>temp_max</th>\n",
       "      <th>temp_min</th>\n",
       "    </tr>\n",
       "  </thead>\n",
       "  <tbody>\n",
       "    <tr>\n",
       "      <th>0</th>\n",
       "      <td>57_125</td>\n",
       "      <td>1</td>\n",
       "      <td>12.047436</td>\n",
       "      <td>35.299999</td>\n",
       "      <td>-7.7</td>\n",
       "    </tr>\n",
       "    <tr>\n",
       "      <th>1</th>\n",
       "      <td>57_125</td>\n",
       "      <td>2</td>\n",
       "      <td>12.685256</td>\n",
       "      <td>35.400002</td>\n",
       "      <td>-8.3</td>\n",
       "    </tr>\n",
       "    <tr>\n",
       "      <th>2</th>\n",
       "      <td>57_125</td>\n",
       "      <td>3</td>\n",
       "      <td>12.664103</td>\n",
       "      <td>33.099998</td>\n",
       "      <td>-11.2</td>\n",
       "    </tr>\n",
       "    <tr>\n",
       "      <th>3</th>\n",
       "      <td>57_125</td>\n",
       "      <td>4</td>\n",
       "      <td>11.985897</td>\n",
       "      <td>32.099998</td>\n",
       "      <td>-10.5</td>\n",
       "    </tr>\n",
       "    <tr>\n",
       "      <th>4</th>\n",
       "      <td>57_125</td>\n",
       "      <td>5</td>\n",
       "      <td>11.444231</td>\n",
       "      <td>30.900000</td>\n",
       "      <td>-11.9</td>\n",
       "    </tr>\n",
       "  </tbody>\n",
       "</table>\n",
       "</div>"
      ],
      "text/plain": [
       "     grid  day   temp_avg   temp_max  temp_min\n",
       "0  57_125    1  12.047436  35.299999      -7.7\n",
       "1  57_125    2  12.685256  35.400002      -8.3\n",
       "2  57_125    3  12.664103  33.099998     -11.2\n",
       "3  57_125    4  11.985897  32.099998     -10.5\n",
       "4  57_125    5  11.444231  30.900000     -11.9"
      ]
     },
     "execution_count": 23,
     "metadata": {},
     "output_type": "execute_result"
    }
   ],
   "source": [
    "temp_dataset.head()"
   ]
  },
  {
   "cell_type": "code",
   "execution_count": null,
   "metadata": {},
   "outputs": [],
   "source": []
  }
 ],
 "metadata": {
  "kernelspec": {
   "display_name": "Python 3",
   "language": "python",
   "name": "python3"
  },
  "language_info": {
   "codemirror_mode": {
    "name": "ipython",
    "version": 3
   },
   "file_extension": ".py",
   "mimetype": "text/x-python",
   "name": "python",
   "nbconvert_exporter": "python",
   "pygments_lexer": "ipython3",
   "version": "3.6.5"
  }
 },
 "nbformat": 4,
 "nbformat_minor": 2
}

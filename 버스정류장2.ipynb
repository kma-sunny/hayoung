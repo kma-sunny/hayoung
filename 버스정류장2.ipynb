{
 "cells": [
  {
   "cell_type": "code",
   "execution_count": 1,
   "metadata": {},
   "outputs": [],
   "source": [
    "import pandas as pd"
   ]
  },
  {
   "cell_type": "code",
   "execution_count": 2,
   "metadata": {},
   "outputs": [],
   "source": [
    "busUser_info=pd.read_csv(\"data/버스 승하차인원데이터.csv\", encoding=\"utf-8\")"
   ]
  },
  {
   "cell_type": "code",
   "execution_count": 3,
   "metadata": {},
   "outputs": [],
   "source": [
    "busStop=pd.read_csv(\"data/서울특별시 버스정류소 위치정보.csv\",encoding=\"utf-8\")"
   ]
  },
  {
   "cell_type": "code",
   "execution_count": 4,
   "metadata": {},
   "outputs": [],
   "source": [
    "busUser_info=busUser_info[['alight_pasgr_num','bus_sta_nm','ride_pasgr_num','use_dt']]"
   ]
  },
  {
   "cell_type": "code",
   "execution_count": 5,
   "metadata": {},
   "outputs": [
    {
     "data": {
      "text/plain": [
       "(361024, 4)"
      ]
     },
     "execution_count": 5,
     "metadata": {},
     "output_type": "execute_result"
    }
   ],
   "source": [
    "busUser_info.shape"
   ]
  },
  {
   "cell_type": "code",
   "execution_count": 8,
   "metadata": {},
   "outputs": [],
   "source": [
    "stopName_XY={}\n",
    "for i in range(busStop.shape[0]):\n",
    "    li=[]\n",
    "    stopName_XY[busStop['정류소명'].iloc[i]]=busStop[['Y좌표','X좌표']].iloc[i]"
   ]
  },
  {
   "cell_type": "code",
   "execution_count": 9,
   "metadata": {},
   "outputs": [
    {
     "data": {
      "text/plain": [
       "6728"
      ]
     },
     "execution_count": 9,
     "metadata": {},
     "output_type": "execute_result"
    }
   ],
   "source": [
    "len(stopName_XY)"
   ]
  },
  {
   "cell_type": "code",
   "execution_count": 6,
   "metadata": {},
   "outputs": [],
   "source": [
    "busUser_info['lati']=0 # Y좌표값\n",
    "busUser_info['long']=0 # X좌표값"
   ]
  },
  {
   "cell_type": "code",
   "execution_count": null,
   "metadata": {},
   "outputs": [
    {
     "name": "stderr",
     "output_type": "stream",
     "text": [
      "C:\\Users\\B-17\\AppData\\Roaming\\Python\\Python36\\site-packages\\pandas\\core\\indexing.py:190: SettingWithCopyWarning: \n",
      "A value is trying to be set on a copy of a slice from a DataFrame\n",
      "\n",
      "See the caveats in the documentation: http://pandas.pydata.org/pandas-docs/stable/indexing.html#indexing-view-versus-copy\n",
      "  self._setitem_with_indexer(indexer, value)\n"
     ]
    }
   ],
   "source": [
    "for i in range(busUser_info.shape[0]):\n",
    "\n",
    "    if busUser_info['bus_sta_nm'].iloc[i] in list(stopName_XY.keys()):\n",
    "        \n",
    "        busUser_info['lati'].iloc[i]=stopName_XY[busUser_info['bus_sta_nm'].iloc[i]]['Y좌표']\n",
    "        busUser_info['long'].iloc[i]=stopName_XY[busUser_info['bus_sta_nm'].iloc[i]]['X좌표']\n",
    "    \n",
    "        \n",
    "#         print(stopName_XY[busUser_info['bus_sta_nm'].iloc[i]]['Y좌표'])\n",
    "#         print(stopName_XY[busUser_info['bus_sta_nm'].iloc[i]]['X좌표'])\n",
    "    \n",
    "        \n",
    "    "
   ]
  },
  {
   "cell_type": "code",
   "execution_count": null,
   "metadata": {},
   "outputs": [],
   "source": []
  }
 ],
 "metadata": {
  "kernelspec": {
   "display_name": "Python 3",
   "language": "python",
   "name": "python3"
  },
  "language_info": {
   "codemirror_mode": {
    "name": "ipython",
    "version": 3
   },
   "file_extension": ".py",
   "mimetype": "text/x-python",
   "name": "python",
   "nbconvert_exporter": "python",
   "pygments_lexer": "ipython3",
   "version": "3.6.5"
  }
 },
 "nbformat": 4,
 "nbformat_minor": 2
}
